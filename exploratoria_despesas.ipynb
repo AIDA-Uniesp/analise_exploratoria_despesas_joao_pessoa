{
 "cells": [
  {
   "cell_type": "markdown",
   "metadata": {},
   "source": [
    "# Análise exploratória do planejamento orçamentário da Prefeitura de João Pessoa no ano de 2022\n",
    "\n",
    "##### Fonte: [Portal da Transparência, detalhamento de despesas de 2022](https://transparencia.joaopessoa.pb.gov.br/#/despesas/despesas-detalhamento)\n",
    "> - Foi escolhido o valor empenhado por representar o valor planejado.\n",
    "> - Necessário aprofundamento nos valores liquidados e valores pagos"
   ]
  },
  {
   "cell_type": "code",
   "execution_count": 1,
   "metadata": {
    "notebookRunGroups": {
     "groupValue": ""
    }
   },
   "outputs": [
    {
     "name": "stdout",
     "output_type": "stream",
     "text": [
      "Requirement already satisfied: pandas in .\\.venv\\lib\\site-packages (2.2.1)\n",
      "Requirement already satisfied: numpy<2,>=1.22.4 in .\\.venv\\lib\\site-packages (from pandas) (1.26.4)\n",
      "Requirement already satisfied: python-dateutil>=2.8.2 in .\\.venv\\lib\\site-packages (from pandas) (2.9.0.post0)\n",
      "Requirement already satisfied: pytz>=2020.1 in .\\.venv\\lib\\site-packages (from pandas) (2024.1)\n",
      "Requirement already satisfied: tzdata>=2022.7 in .\\.venv\\lib\\site-packages (from pandas) (2024.1)\n",
      "Requirement already satisfied: six>=1.5 in .\\.venv\\lib\\site-packages (from python-dateutil>=2.8.2->pandas) (1.16.0)\n",
      "Note: you may need to restart the kernel to use updated packages.\n",
      "Requirement already satisfied: plotly==5.21.0 in .\\.venv\\lib\\site-packages (5.21.0)Note: you may need to restart the kernel to use updated packages.\n",
      "\n",
      "Requirement already satisfied: tenacity>=6.2.0 in .\\.venv\\lib\\site-packages (from plotly==5.21.0) (8.2.3)\n",
      "Requirement already satisfied: packaging in .\\.venv\\lib\\site-packages (from plotly==5.21.0) (24.0)\n"
     ]
    }
   ],
   "source": [
    "#Imports\n",
    "%pip install pandas\n",
    "%pip install plotly==5.21.0\n",
    "\n",
    "import pandas as pd\n",
    "import plotly.graph_objects as go\n"
   ]
  },
  {
   "cell_type": "markdown",
   "metadata": {},
   "source": [
    "### Conteúdo dos dados"
   ]
  },
  {
   "cell_type": "code",
   "execution_count": 2,
   "metadata": {},
   "outputs": [
    {
     "data": {
      "text/html": [
       "<div>\n",
       "<style scoped>\n",
       "    .dataframe tbody tr th:only-of-type {\n",
       "        vertical-align: middle;\n",
       "    }\n",
       "\n",
       "    .dataframe tbody tr th {\n",
       "        vertical-align: top;\n",
       "    }\n",
       "\n",
       "    .dataframe thead th {\n",
       "        text-align: right;\n",
       "    }\n",
       "</style>\n",
       "<table border=\"1\" class=\"dataframe\">\n",
       "  <thead>\n",
       "    <tr style=\"text-align: right;\">\n",
       "      <th></th>\n",
       "      <th>nume_empenho</th>\n",
       "      <th>ano_empenho</th>\n",
       "      <th>unidade_orcamentaria</th>\n",
       "      <th>codi_unor</th>\n",
       "      <th>favorecido</th>\n",
       "      <th>data_empenho</th>\n",
       "      <th>valor_empenhado</th>\n",
       "      <th>valor_liquidado</th>\n",
       "      <th>valor_pago</th>\n",
       "      <th>saldo_pagar</th>\n",
       "    </tr>\n",
       "  </thead>\n",
       "  <tbody>\n",
       "    <tr>\n",
       "      <th>0</th>\n",
       "      <td>1</td>\n",
       "      <td>2022</td>\n",
       "      <td>UNIDADE EXECUTORA DO PROGRAMA JOAO PESSOA SUST...</td>\n",
       "      <td>710103</td>\n",
       "      <td>MJV SERVICOS DE ESCRITORIOS COMPARTILHADOS LTDA</td>\n",
       "      <td>2022-01-31</td>\n",
       "      <td>274760.50</td>\n",
       "      <td>252322.76</td>\n",
       "      <td>252322.76</td>\n",
       "      <td>0.00</td>\n",
       "    </tr>\n",
       "    <tr>\n",
       "      <th>1</th>\n",
       "      <td>1</td>\n",
       "      <td>2022</td>\n",
       "      <td>SECRETARIA MUNICIPAL DE CIENCIA E TECNOLOGIA-G...</td>\n",
       "      <td>270101</td>\n",
       "      <td>ALFAPRINT LOCACOES LTDA-ME</td>\n",
       "      <td>2022-01-28</td>\n",
       "      <td>1020.00</td>\n",
       "      <td>1020.00</td>\n",
       "      <td>1020.00</td>\n",
       "      <td>0.00</td>\n",
       "    </tr>\n",
       "    <tr>\n",
       "      <th>2</th>\n",
       "      <td>1</td>\n",
       "      <td>2022</td>\n",
       "      <td>CONTROLADORIA GERAL DO MUNICIPIO-GABINETE DO S...</td>\n",
       "      <td>320101</td>\n",
       "      <td>SECRETARIA DE FINANCAS DO MUNICIPIO (SEFIN)</td>\n",
       "      <td>2022-01-28</td>\n",
       "      <td>146449.39</td>\n",
       "      <td>146449.39</td>\n",
       "      <td>107643.28</td>\n",
       "      <td>38806.11</td>\n",
       "    </tr>\n",
       "    <tr>\n",
       "      <th>3</th>\n",
       "      <td>1</td>\n",
       "      <td>2022</td>\n",
       "      <td>COORDENADORIA MUNICIPAL DE PROMOCAO A CIDADANI...</td>\n",
       "      <td>710104</td>\n",
       "      <td>GERALDO DE SOUZA LEITE FILHO</td>\n",
       "      <td>2022-11-22</td>\n",
       "      <td>1458.34</td>\n",
       "      <td>1458.34</td>\n",
       "      <td>1458.34</td>\n",
       "      <td>0.00</td>\n",
       "    </tr>\n",
       "    <tr>\n",
       "      <th>4</th>\n",
       "      <td>1</td>\n",
       "      <td>2022</td>\n",
       "      <td>DIRETORIA DE GESTAO CURRICULAR</td>\n",
       "      <td>100102</td>\n",
       "      <td>IPM-INSTITUTO DE PREVIDENCIA DO MUNICIPIO</td>\n",
       "      <td>2022-01-28</td>\n",
       "      <td>0.00</td>\n",
       "      <td>0.00</td>\n",
       "      <td>0.00</td>\n",
       "      <td>0.00</td>\n",
       "    </tr>\n",
       "  </tbody>\n",
       "</table>\n",
       "</div>"
      ],
      "text/plain": [
       "   nume_empenho  ano_empenho  \\\n",
       "0             1         2022   \n",
       "1             1         2022   \n",
       "2             1         2022   \n",
       "3             1         2022   \n",
       "4             1         2022   \n",
       "\n",
       "                                unidade_orcamentaria  codi_unor  \\\n",
       "0  UNIDADE EXECUTORA DO PROGRAMA JOAO PESSOA SUST...     710103   \n",
       "1  SECRETARIA MUNICIPAL DE CIENCIA E TECNOLOGIA-G...     270101   \n",
       "2  CONTROLADORIA GERAL DO MUNICIPIO-GABINETE DO S...     320101   \n",
       "3  COORDENADORIA MUNICIPAL DE PROMOCAO A CIDADANI...     710104   \n",
       "4                     DIRETORIA DE GESTAO CURRICULAR     100102   \n",
       "\n",
       "                                        favorecido data_empenho  \\\n",
       "0  MJV SERVICOS DE ESCRITORIOS COMPARTILHADOS LTDA   2022-01-31   \n",
       "1                       ALFAPRINT LOCACOES LTDA-ME   2022-01-28   \n",
       "2      SECRETARIA DE FINANCAS DO MUNICIPIO (SEFIN)   2022-01-28   \n",
       "3                     GERALDO DE SOUZA LEITE FILHO   2022-11-22   \n",
       "4        IPM-INSTITUTO DE PREVIDENCIA DO MUNICIPIO   2022-01-28   \n",
       "\n",
       "   valor_empenhado  valor_liquidado  valor_pago  saldo_pagar  \n",
       "0        274760.50        252322.76   252322.76         0.00  \n",
       "1          1020.00          1020.00     1020.00         0.00  \n",
       "2        146449.39        146449.39   107643.28     38806.11  \n",
       "3          1458.34          1458.34     1458.34         0.00  \n",
       "4             0.00             0.00        0.00         0.00  "
      ]
     },
     "execution_count": 2,
     "metadata": {},
     "output_type": "execute_result"
    }
   ],
   "source": [
    "# Leitura dos dados\n",
    "pd.set_option(\"float_format\",'{:.2f}'.format)\n",
    "df = pd.read_csv(filepath_or_buffer='./data/2022.csv', sep='|', low_memory=False)\n",
    "df.head(5)"
   ]
  },
  {
   "cell_type": "code",
   "execution_count": 3,
   "metadata": {},
   "outputs": [
    {
     "name": "stdout",
     "output_type": "stream",
     "text": [
      "<class 'pandas.core.frame.DataFrame'>\n",
      "RangeIndex: 29567 entries, 0 to 29566\n",
      "Data columns (total 11 columns):\n",
      " #   Column                Non-Null Count  Dtype         \n",
      "---  ------                --------------  -----         \n",
      " 0   nume_empenho          29567 non-null  int64         \n",
      " 1   ano_empenho           29567 non-null  int64         \n",
      " 2   unidade_orcamentaria  29567 non-null  object        \n",
      " 3   codi_unor             29567 non-null  int64         \n",
      " 4   favorecido            29567 non-null  object        \n",
      " 5   data_empenho          29567 non-null  datetime64[ns]\n",
      " 6   valor_empenhado       29567 non-null  float64       \n",
      " 7   valor_liquidado       29567 non-null  float64       \n",
      " 8   valor_pago            29567 non-null  float64       \n",
      " 9   saldo_pagar           29567 non-null  float64       \n",
      " 10  trimestre_empenho     29567 non-null  int32         \n",
      "dtypes: datetime64[ns](1), float64(4), int32(1), int64(3), object(2)\n",
      "memory usage: 2.4+ MB\n"
     ]
    }
   ],
   "source": [
    "# Análise dos tipos disponíveis\n",
    "df[\"data_empenho\"] = pd.to_datetime(df[\"data_empenho\"])\n",
    "df[\"trimestre_empenho\"] = df[\"data_empenho\"].dt.quarter\n",
    "df.info()"
   ]
  },
  {
   "cell_type": "markdown",
   "metadata": {},
   "source": [
    "> - A partir desta análise prévia foi identificado a necessidade da conversão do campo `data_empenho` para o tipo `datetime64`, facilitando os possíveis cálculos a partir de datas.\n",
    "> - Como o ano fiscal geralmente é dividido em trimestres, o campo `trimestre_empenho` foi adicionado sendo inferido a partir do campo `data_empenho`, onde, **1** representa o primeiro trimestre, **2** o segundo trimestre, **3** o terceiro trimestre e **4** o quarto trimestre."
   ]
  },
  {
   "cell_type": "markdown",
   "metadata": {},
   "source": [
    "#### Identificação dos dados que podem ser agrupados e dos dados que podem ser agrupadores.\n",
    "\n",
    "> São escolhidos os dados com menor quantidade para serem agrupadores, neste caso `trimestre_empenho` e `unidade_orcamentaria`."
   ]
  },
  {
   "cell_type": "code",
   "execution_count": 4,
   "metadata": {},
   "outputs": [
    {
     "data": {
      "text/html": [
       "<div>\n",
       "<style scoped>\n",
       "    .dataframe tbody tr th:only-of-type {\n",
       "        vertical-align: middle;\n",
       "    }\n",
       "\n",
       "    .dataframe tbody tr th {\n",
       "        vertical-align: top;\n",
       "    }\n",
       "\n",
       "    .dataframe thead th {\n",
       "        text-align: right;\n",
       "    }\n",
       "</style>\n",
       "<table border=\"1\" class=\"dataframe\">\n",
       "  <thead>\n",
       "    <tr style=\"text-align: right;\">\n",
       "      <th></th>\n",
       "      <th>coluna</th>\n",
       "      <th>quantidade</th>\n",
       "      <th>valores</th>\n",
       "    </tr>\n",
       "  </thead>\n",
       "  <tbody>\n",
       "    <tr>\n",
       "      <th>1</th>\n",
       "      <td>ano_empenho</td>\n",
       "      <td>1</td>\n",
       "      <td>[2022]</td>\n",
       "    </tr>\n",
       "    <tr>\n",
       "      <th>10</th>\n",
       "      <td>trimestre_empenho</td>\n",
       "      <td>4</td>\n",
       "      <td>[1, 4, 2, 3]</td>\n",
       "    </tr>\n",
       "    <tr>\n",
       "      <th>2</th>\n",
       "      <td>unidade_orcamentaria</td>\n",
       "      <td>46</td>\n",
       "      <td>[UNIDADE EXECUTORA DO PROGRAMA JOAO PESSOA SUS...</td>\n",
       "    </tr>\n",
       "    <tr>\n",
       "      <th>3</th>\n",
       "      <td>codi_unor</td>\n",
       "      <td>48</td>\n",
       "      <td>[710103, 270101, 320101, 710104, 100102, 50301...</td>\n",
       "    </tr>\n",
       "    <tr>\n",
       "      <th>5</th>\n",
       "      <td>data_empenho</td>\n",
       "      <td>265</td>\n",
       "      <td>[2022-01-31 00:00:00, 2022-01-28 00:00:00, 202...</td>\n",
       "    </tr>\n",
       "    <tr>\n",
       "      <th>9</th>\n",
       "      <td>saldo_pagar</td>\n",
       "      <td>4520</td>\n",
       "      <td>[0.0, 38806.11, 3026.03, 13771.44, 7042.7, 667...</td>\n",
       "    </tr>\n",
       "    <tr>\n",
       "      <th>0</th>\n",
       "      <td>nume_empenho</td>\n",
       "      <td>6678</td>\n",
       "      <td>[1, 2, 3, 4, 5, 6, 7, 8, 9, 10, 11, 12, 13, 14...</td>\n",
       "    </tr>\n",
       "    <tr>\n",
       "      <th>4</th>\n",
       "      <td>favorecido</td>\n",
       "      <td>8219</td>\n",
       "      <td>[MJV SERVICOS DE ESCRITORIOS COMPARTILHADOS LT...</td>\n",
       "    </tr>\n",
       "    <tr>\n",
       "      <th>7</th>\n",
       "      <td>valor_liquidado</td>\n",
       "      <td>11613</td>\n",
       "      <td>[252322.76, 1020.0, 146449.39, 1458.34, 0.0, 4...</td>\n",
       "    </tr>\n",
       "    <tr>\n",
       "      <th>6</th>\n",
       "      <td>valor_empenhado</td>\n",
       "      <td>12058</td>\n",
       "      <td>[274760.5, 1020.0, 146449.39, 1458.34, 0.0, 40...</td>\n",
       "    </tr>\n",
       "    <tr>\n",
       "      <th>8</th>\n",
       "      <td>valor_pago</td>\n",
       "      <td>12067</td>\n",
       "      <td>[252322.76, 1020.0, 107643.28, 1458.34, 0.0, 3...</td>\n",
       "    </tr>\n",
       "  </tbody>\n",
       "</table>\n",
       "</div>"
      ],
      "text/plain": [
       "                  coluna  quantidade  \\\n",
       "1            ano_empenho           1   \n",
       "10     trimestre_empenho           4   \n",
       "2   unidade_orcamentaria          46   \n",
       "3              codi_unor          48   \n",
       "5           data_empenho         265   \n",
       "9            saldo_pagar        4520   \n",
       "0           nume_empenho        6678   \n",
       "4             favorecido        8219   \n",
       "7        valor_liquidado       11613   \n",
       "6        valor_empenhado       12058   \n",
       "8             valor_pago       12067   \n",
       "\n",
       "                                              valores  \n",
       "1                                              [2022]  \n",
       "10                                       [1, 4, 2, 3]  \n",
       "2   [UNIDADE EXECUTORA DO PROGRAMA JOAO PESSOA SUS...  \n",
       "3   [710103, 270101, 320101, 710104, 100102, 50301...  \n",
       "5   [2022-01-31 00:00:00, 2022-01-28 00:00:00, 202...  \n",
       "9   [0.0, 38806.11, 3026.03, 13771.44, 7042.7, 667...  \n",
       "0   [1, 2, 3, 4, 5, 6, 7, 8, 9, 10, 11, 12, 13, 14...  \n",
       "4   [MJV SERVICOS DE ESCRITORIOS COMPARTILHADOS LT...  \n",
       "7   [252322.76, 1020.0, 146449.39, 1458.34, 0.0, 4...  \n",
       "6   [274760.5, 1020.0, 146449.39, 1458.34, 0.0, 40...  \n",
       "8   [252322.76, 1020.0, 107643.28, 1458.34, 0.0, 3...  "
      ]
     },
     "execution_count": 4,
     "metadata": {},
     "output_type": "execute_result"
    }
   ],
   "source": [
    "# verificação de dados únicos\n",
    "valores_unicos = pd.DataFrame(map(lambda columnn:\n",
    "    {\n",
    "        \"coluna\": columnn,\n",
    "        \"quantidade\": df[columnn].nunique(),\n",
    "        \"valores\": df[columnn].unique()\n",
    "    } ,df.columns)).sort_values(\"quantidade\")\n",
    "valores_unicos"
   ]
  },
  {
   "cell_type": "markdown",
   "metadata": {},
   "source": [
    "### Total do valor empenhado em 2022 pela Prefeitura de João Pessoa"
   ]
  },
  {
   "cell_type": "code",
   "execution_count": 25,
   "metadata": {},
   "outputs": [
    {
     "data": {
      "application/vnd.plotly.v1+json": {
       "config": {
        "plotlyServerURL": "https://plot.ly"
       },
       "data": [
        {
         "domain": {
          "x": [
           0,
           1
          ],
          "y": [
           0,
           1
          ]
         },
         "mode": "number",
         "number": {
          "prefix": "R$ "
         },
         "type": "indicator",
         "value": 3151150540.18
        }
       ],
       "layout": {
        "paper_bgcolor": "lightgray",
        "template": {
         "data": {
          "bar": [
           {
            "error_x": {
             "color": "#2a3f5f"
            },
            "error_y": {
             "color": "#2a3f5f"
            },
            "marker": {
             "line": {
              "color": "#E5ECF6",
              "width": 0.5
             },
             "pattern": {
              "fillmode": "overlay",
              "size": 10,
              "solidity": 0.2
             }
            },
            "type": "bar"
           }
          ],
          "barpolar": [
           {
            "marker": {
             "line": {
              "color": "#E5ECF6",
              "width": 0.5
             },
             "pattern": {
              "fillmode": "overlay",
              "size": 10,
              "solidity": 0.2
             }
            },
            "type": "barpolar"
           }
          ],
          "carpet": [
           {
            "aaxis": {
             "endlinecolor": "#2a3f5f",
             "gridcolor": "white",
             "linecolor": "white",
             "minorgridcolor": "white",
             "startlinecolor": "#2a3f5f"
            },
            "baxis": {
             "endlinecolor": "#2a3f5f",
             "gridcolor": "white",
             "linecolor": "white",
             "minorgridcolor": "white",
             "startlinecolor": "#2a3f5f"
            },
            "type": "carpet"
           }
          ],
          "choropleth": [
           {
            "colorbar": {
             "outlinewidth": 0,
             "ticks": ""
            },
            "type": "choropleth"
           }
          ],
          "contour": [
           {
            "colorbar": {
             "outlinewidth": 0,
             "ticks": ""
            },
            "colorscale": [
             [
              0,
              "#0d0887"
             ],
             [
              0.1111111111111111,
              "#46039f"
             ],
             [
              0.2222222222222222,
              "#7201a8"
             ],
             [
              0.3333333333333333,
              "#9c179e"
             ],
             [
              0.4444444444444444,
              "#bd3786"
             ],
             [
              0.5555555555555556,
              "#d8576b"
             ],
             [
              0.6666666666666666,
              "#ed7953"
             ],
             [
              0.7777777777777778,
              "#fb9f3a"
             ],
             [
              0.8888888888888888,
              "#fdca26"
             ],
             [
              1,
              "#f0f921"
             ]
            ],
            "type": "contour"
           }
          ],
          "contourcarpet": [
           {
            "colorbar": {
             "outlinewidth": 0,
             "ticks": ""
            },
            "type": "contourcarpet"
           }
          ],
          "heatmap": [
           {
            "colorbar": {
             "outlinewidth": 0,
             "ticks": ""
            },
            "colorscale": [
             [
              0,
              "#0d0887"
             ],
             [
              0.1111111111111111,
              "#46039f"
             ],
             [
              0.2222222222222222,
              "#7201a8"
             ],
             [
              0.3333333333333333,
              "#9c179e"
             ],
             [
              0.4444444444444444,
              "#bd3786"
             ],
             [
              0.5555555555555556,
              "#d8576b"
             ],
             [
              0.6666666666666666,
              "#ed7953"
             ],
             [
              0.7777777777777778,
              "#fb9f3a"
             ],
             [
              0.8888888888888888,
              "#fdca26"
             ],
             [
              1,
              "#f0f921"
             ]
            ],
            "type": "heatmap"
           }
          ],
          "heatmapgl": [
           {
            "colorbar": {
             "outlinewidth": 0,
             "ticks": ""
            },
            "colorscale": [
             [
              0,
              "#0d0887"
             ],
             [
              0.1111111111111111,
              "#46039f"
             ],
             [
              0.2222222222222222,
              "#7201a8"
             ],
             [
              0.3333333333333333,
              "#9c179e"
             ],
             [
              0.4444444444444444,
              "#bd3786"
             ],
             [
              0.5555555555555556,
              "#d8576b"
             ],
             [
              0.6666666666666666,
              "#ed7953"
             ],
             [
              0.7777777777777778,
              "#fb9f3a"
             ],
             [
              0.8888888888888888,
              "#fdca26"
             ],
             [
              1,
              "#f0f921"
             ]
            ],
            "type": "heatmapgl"
           }
          ],
          "histogram": [
           {
            "marker": {
             "pattern": {
              "fillmode": "overlay",
              "size": 10,
              "solidity": 0.2
             }
            },
            "type": "histogram"
           }
          ],
          "histogram2d": [
           {
            "colorbar": {
             "outlinewidth": 0,
             "ticks": ""
            },
            "colorscale": [
             [
              0,
              "#0d0887"
             ],
             [
              0.1111111111111111,
              "#46039f"
             ],
             [
              0.2222222222222222,
              "#7201a8"
             ],
             [
              0.3333333333333333,
              "#9c179e"
             ],
             [
              0.4444444444444444,
              "#bd3786"
             ],
             [
              0.5555555555555556,
              "#d8576b"
             ],
             [
              0.6666666666666666,
              "#ed7953"
             ],
             [
              0.7777777777777778,
              "#fb9f3a"
             ],
             [
              0.8888888888888888,
              "#fdca26"
             ],
             [
              1,
              "#f0f921"
             ]
            ],
            "type": "histogram2d"
           }
          ],
          "histogram2dcontour": [
           {
            "colorbar": {
             "outlinewidth": 0,
             "ticks": ""
            },
            "colorscale": [
             [
              0,
              "#0d0887"
             ],
             [
              0.1111111111111111,
              "#46039f"
             ],
             [
              0.2222222222222222,
              "#7201a8"
             ],
             [
              0.3333333333333333,
              "#9c179e"
             ],
             [
              0.4444444444444444,
              "#bd3786"
             ],
             [
              0.5555555555555556,
              "#d8576b"
             ],
             [
              0.6666666666666666,
              "#ed7953"
             ],
             [
              0.7777777777777778,
              "#fb9f3a"
             ],
             [
              0.8888888888888888,
              "#fdca26"
             ],
             [
              1,
              "#f0f921"
             ]
            ],
            "type": "histogram2dcontour"
           }
          ],
          "mesh3d": [
           {
            "colorbar": {
             "outlinewidth": 0,
             "ticks": ""
            },
            "type": "mesh3d"
           }
          ],
          "parcoords": [
           {
            "line": {
             "colorbar": {
              "outlinewidth": 0,
              "ticks": ""
             }
            },
            "type": "parcoords"
           }
          ],
          "pie": [
           {
            "automargin": true,
            "type": "pie"
           }
          ],
          "scatter": [
           {
            "fillpattern": {
             "fillmode": "overlay",
             "size": 10,
             "solidity": 0.2
            },
            "type": "scatter"
           }
          ],
          "scatter3d": [
           {
            "line": {
             "colorbar": {
              "outlinewidth": 0,
              "ticks": ""
             }
            },
            "marker": {
             "colorbar": {
              "outlinewidth": 0,
              "ticks": ""
             }
            },
            "type": "scatter3d"
           }
          ],
          "scattercarpet": [
           {
            "marker": {
             "colorbar": {
              "outlinewidth": 0,
              "ticks": ""
             }
            },
            "type": "scattercarpet"
           }
          ],
          "scattergeo": [
           {
            "marker": {
             "colorbar": {
              "outlinewidth": 0,
              "ticks": ""
             }
            },
            "type": "scattergeo"
           }
          ],
          "scattergl": [
           {
            "marker": {
             "colorbar": {
              "outlinewidth": 0,
              "ticks": ""
             }
            },
            "type": "scattergl"
           }
          ],
          "scattermapbox": [
           {
            "marker": {
             "colorbar": {
              "outlinewidth": 0,
              "ticks": ""
             }
            },
            "type": "scattermapbox"
           }
          ],
          "scatterpolar": [
           {
            "marker": {
             "colorbar": {
              "outlinewidth": 0,
              "ticks": ""
             }
            },
            "type": "scatterpolar"
           }
          ],
          "scatterpolargl": [
           {
            "marker": {
             "colorbar": {
              "outlinewidth": 0,
              "ticks": ""
             }
            },
            "type": "scatterpolargl"
           }
          ],
          "scatterternary": [
           {
            "marker": {
             "colorbar": {
              "outlinewidth": 0,
              "ticks": ""
             }
            },
            "type": "scatterternary"
           }
          ],
          "surface": [
           {
            "colorbar": {
             "outlinewidth": 0,
             "ticks": ""
            },
            "colorscale": [
             [
              0,
              "#0d0887"
             ],
             [
              0.1111111111111111,
              "#46039f"
             ],
             [
              0.2222222222222222,
              "#7201a8"
             ],
             [
              0.3333333333333333,
              "#9c179e"
             ],
             [
              0.4444444444444444,
              "#bd3786"
             ],
             [
              0.5555555555555556,
              "#d8576b"
             ],
             [
              0.6666666666666666,
              "#ed7953"
             ],
             [
              0.7777777777777778,
              "#fb9f3a"
             ],
             [
              0.8888888888888888,
              "#fdca26"
             ],
             [
              1,
              "#f0f921"
             ]
            ],
            "type": "surface"
           }
          ],
          "table": [
           {
            "cells": {
             "fill": {
              "color": "#EBF0F8"
             },
             "line": {
              "color": "white"
             }
            },
            "header": {
             "fill": {
              "color": "#C8D4E3"
             },
             "line": {
              "color": "white"
             }
            },
            "type": "table"
           }
          ]
         },
         "layout": {
          "annotationdefaults": {
           "arrowcolor": "#2a3f5f",
           "arrowhead": 0,
           "arrowwidth": 1
          },
          "autotypenumbers": "strict",
          "coloraxis": {
           "colorbar": {
            "outlinewidth": 0,
            "ticks": ""
           }
          },
          "colorscale": {
           "diverging": [
            [
             0,
             "#8e0152"
            ],
            [
             0.1,
             "#c51b7d"
            ],
            [
             0.2,
             "#de77ae"
            ],
            [
             0.3,
             "#f1b6da"
            ],
            [
             0.4,
             "#fde0ef"
            ],
            [
             0.5,
             "#f7f7f7"
            ],
            [
             0.6,
             "#e6f5d0"
            ],
            [
             0.7,
             "#b8e186"
            ],
            [
             0.8,
             "#7fbc41"
            ],
            [
             0.9,
             "#4d9221"
            ],
            [
             1,
             "#276419"
            ]
           ],
           "sequential": [
            [
             0,
             "#0d0887"
            ],
            [
             0.1111111111111111,
             "#46039f"
            ],
            [
             0.2222222222222222,
             "#7201a8"
            ],
            [
             0.3333333333333333,
             "#9c179e"
            ],
            [
             0.4444444444444444,
             "#bd3786"
            ],
            [
             0.5555555555555556,
             "#d8576b"
            ],
            [
             0.6666666666666666,
             "#ed7953"
            ],
            [
             0.7777777777777778,
             "#fb9f3a"
            ],
            [
             0.8888888888888888,
             "#fdca26"
            ],
            [
             1,
             "#f0f921"
            ]
           ],
           "sequentialminus": [
            [
             0,
             "#0d0887"
            ],
            [
             0.1111111111111111,
             "#46039f"
            ],
            [
             0.2222222222222222,
             "#7201a8"
            ],
            [
             0.3333333333333333,
             "#9c179e"
            ],
            [
             0.4444444444444444,
             "#bd3786"
            ],
            [
             0.5555555555555556,
             "#d8576b"
            ],
            [
             0.6666666666666666,
             "#ed7953"
            ],
            [
             0.7777777777777778,
             "#fb9f3a"
            ],
            [
             0.8888888888888888,
             "#fdca26"
            ],
            [
             1,
             "#f0f921"
            ]
           ]
          },
          "colorway": [
           "#636efa",
           "#EF553B",
           "#00cc96",
           "#ab63fa",
           "#FFA15A",
           "#19d3f3",
           "#FF6692",
           "#B6E880",
           "#FF97FF",
           "#FECB52"
          ],
          "font": {
           "color": "#2a3f5f"
          },
          "geo": {
           "bgcolor": "white",
           "lakecolor": "white",
           "landcolor": "#E5ECF6",
           "showlakes": true,
           "showland": true,
           "subunitcolor": "white"
          },
          "hoverlabel": {
           "align": "left"
          },
          "hovermode": "closest",
          "mapbox": {
           "style": "light"
          },
          "paper_bgcolor": "white",
          "plot_bgcolor": "#E5ECF6",
          "polar": {
           "angularaxis": {
            "gridcolor": "white",
            "linecolor": "white",
            "ticks": ""
           },
           "bgcolor": "#E5ECF6",
           "radialaxis": {
            "gridcolor": "white",
            "linecolor": "white",
            "ticks": ""
           }
          },
          "scene": {
           "xaxis": {
            "backgroundcolor": "#E5ECF6",
            "gridcolor": "white",
            "gridwidth": 2,
            "linecolor": "white",
            "showbackground": true,
            "ticks": "",
            "zerolinecolor": "white"
           },
           "yaxis": {
            "backgroundcolor": "#E5ECF6",
            "gridcolor": "white",
            "gridwidth": 2,
            "linecolor": "white",
            "showbackground": true,
            "ticks": "",
            "zerolinecolor": "white"
           },
           "zaxis": {
            "backgroundcolor": "#E5ECF6",
            "gridcolor": "white",
            "gridwidth": 2,
            "linecolor": "white",
            "showbackground": true,
            "ticks": "",
            "zerolinecolor": "white"
           }
          },
          "shapedefaults": {
           "line": {
            "color": "#2a3f5f"
           }
          },
          "ternary": {
           "aaxis": {
            "gridcolor": "white",
            "linecolor": "white",
            "ticks": ""
           },
           "baxis": {
            "gridcolor": "white",
            "linecolor": "white",
            "ticks": ""
           },
           "bgcolor": "#E5ECF6",
           "caxis": {
            "gridcolor": "white",
            "linecolor": "white",
            "ticks": ""
           }
          },
          "title": {
           "x": 0.05
          },
          "xaxis": {
           "automargin": true,
           "gridcolor": "white",
           "linecolor": "white",
           "ticks": "",
           "title": {
            "standoff": 15
           },
           "zerolinecolor": "white",
           "zerolinewidth": 2
          },
          "yaxis": {
           "automargin": true,
           "gridcolor": "white",
           "linecolor": "white",
           "ticks": "",
           "title": {
            "standoff": 15
           },
           "zerolinecolor": "white",
           "zerolinewidth": 2
          }
         }
        }
       }
      }
     },
     "metadata": {},
     "output_type": "display_data"
    }
   ],
   "source": [
    "# Gráfico tipo KPI\n",
    "valor_total = df[\"valor_empenhado\"].sum()\n",
    "\n",
    "fig = go.Figure(go.Indicator(\n",
    "    mode = \"number\",\n",
    "    value = valor_total,\n",
    "    number = {'prefix': \"R$ \"},\n",
    "    domain = {'x': [0, 1], 'y': [0, 1]}))\n",
    "\n",
    "fig.update_layout(paper_bgcolor = \"lightgray\")\n",
    "fig.show()"
   ]
  },
  {
   "cell_type": "markdown",
   "metadata": {},
   "source": [
    "### Lista de unidades orçamentárias"
   ]
  },
  {
   "cell_type": "code",
   "execution_count": 39,
   "metadata": {},
   "outputs": [
    {
     "data": {
      "text/html": [
       "<div>\n",
       "<style scoped>\n",
       "    .dataframe tbody tr th:only-of-type {\n",
       "        vertical-align: middle;\n",
       "    }\n",
       "\n",
       "    .dataframe tbody tr th {\n",
       "        vertical-align: top;\n",
       "    }\n",
       "\n",
       "    .dataframe thead th {\n",
       "        text-align: right;\n",
       "    }\n",
       "</style>\n",
       "<table border=\"1\" class=\"dataframe\">\n",
       "  <thead>\n",
       "    <tr style=\"text-align: right;\">\n",
       "      <th></th>\n",
       "      <th>Unidades Orçamentárias</th>\n",
       "    </tr>\n",
       "  </thead>\n",
       "  <tbody>\n",
       "    <tr>\n",
       "      <th>0</th>\n",
       "      <td>CONTROLADORIA GERAL DO MUNICIPIO-GABINETE DO S...</td>\n",
       "    </tr>\n",
       "    <tr>\n",
       "      <th>1</th>\n",
       "      <td>COORDENADORIA MUNICIPAL DE PROMOCAO A CIDADANI...</td>\n",
       "    </tr>\n",
       "    <tr>\n",
       "      <th>2</th>\n",
       "      <td>DIRETORIA ADM FIN - COORDENADORA MUNICIPAL DE ...</td>\n",
       "    </tr>\n",
       "    <tr>\n",
       "      <th>3</th>\n",
       "      <td>DIRETORIA DE GESTAO CURRICULAR</td>\n",
       "    </tr>\n",
       "    <tr>\n",
       "      <th>4</th>\n",
       "      <td>FUNDACAO CULTURAL DE JOAO PESSOA-FUNJOPE</td>\n",
       "    </tr>\n",
       "    <tr>\n",
       "      <th>5</th>\n",
       "      <td>FUNDO DE GESTAO, DESENV. E MODERNIZACAO DA PROGEM</td>\n",
       "    </tr>\n",
       "    <tr>\n",
       "      <th>6</th>\n",
       "      <td>FUNDO DO TRABALHO DE JOAO PESSOA</td>\n",
       "    </tr>\n",
       "    <tr>\n",
       "      <th>7</th>\n",
       "      <td>FUNDO MUNICIPAL DE ASSISTENCIA SOCIAL - FMAS</td>\n",
       "    </tr>\n",
       "    <tr>\n",
       "      <th>8</th>\n",
       "      <td>FUNDO MUNICIPAL DE CULTURA</td>\n",
       "    </tr>\n",
       "    <tr>\n",
       "      <th>9</th>\n",
       "      <td>FUNDO MUNICIPAL DE DEFESA DOS DIREITOS DIFUSOS...</td>\n",
       "    </tr>\n",
       "    <tr>\n",
       "      <th>10</th>\n",
       "      <td>FUNDO MUNICIPAL DE DESPESA DA CRIANCA E DO ADO...</td>\n",
       "    </tr>\n",
       "    <tr>\n",
       "      <th>11</th>\n",
       "      <td>FUNDO MUNICIPAL DE SAUDE</td>\n",
       "    </tr>\n",
       "    <tr>\n",
       "      <th>12</th>\n",
       "      <td>FUNDO MUNICIPAL DO IDOSO - FMI</td>\n",
       "    </tr>\n",
       "    <tr>\n",
       "      <th>13</th>\n",
       "      <td>FUNDO MUNICIPAL DO MEIO - AMBIENTE</td>\n",
       "    </tr>\n",
       "    <tr>\n",
       "      <th>14</th>\n",
       "      <td>FUNDURB</td>\n",
       "    </tr>\n",
       "    <tr>\n",
       "      <th>15</th>\n",
       "      <td>GABINETE DE COMUNICACAO SOCIAL</td>\n",
       "    </tr>\n",
       "    <tr>\n",
       "      <th>16</th>\n",
       "      <td>GABINETE DO PROCURADOR</td>\n",
       "    </tr>\n",
       "    <tr>\n",
       "      <th>17</th>\n",
       "      <td>GABINETE DO SECRETARIO</td>\n",
       "    </tr>\n",
       "    <tr>\n",
       "      <th>18</th>\n",
       "      <td>GABINETE DO VICE-PREFEITO</td>\n",
       "    </tr>\n",
       "    <tr>\n",
       "      <th>19</th>\n",
       "      <td>INSTITUTO CANDIDO VARGAS - ICV</td>\n",
       "    </tr>\n",
       "    <tr>\n",
       "      <th>20</th>\n",
       "      <td>INSTITUTO DE PREVIDENCIA DO MUNICIPIO - IPM</td>\n",
       "    </tr>\n",
       "    <tr>\n",
       "      <th>21</th>\n",
       "      <td>PROGRAMA EU POSSO</td>\n",
       "    </tr>\n",
       "    <tr>\n",
       "      <th>22</th>\n",
       "      <td>RECURSOS SOB A SUPERVISAO DA SECRETARIA DA ADM...</td>\n",
       "    </tr>\n",
       "    <tr>\n",
       "      <th>23</th>\n",
       "      <td>RECURSOS SOB A SUPERVISAO DA SECRETARIA DAS FI...</td>\n",
       "    </tr>\n",
       "    <tr>\n",
       "      <th>24</th>\n",
       "      <td>SEC. MUNIC. DA JUVENTUDE, ESPORTE E RECREACAO-...</td>\n",
       "    </tr>\n",
       "    <tr>\n",
       "      <th>25</th>\n",
       "      <td>SEC. MUNIC. DO DESENVOLVIMENTO URBANO-GABINETE...</td>\n",
       "    </tr>\n",
       "    <tr>\n",
       "      <th>26</th>\n",
       "      <td>SECRETARIA DA ADMINISTRACAO-GABINETE DO SECRET...</td>\n",
       "    </tr>\n",
       "    <tr>\n",
       "      <th>27</th>\n",
       "      <td>SECRETARIA DAS FINANCAS-GABINETE DO SECRETARIO</td>\n",
       "    </tr>\n",
       "    <tr>\n",
       "      <th>28</th>\n",
       "      <td>SECRETARIA DE DESENVOLVIMENTO SOCIAL-GABINETE ...</td>\n",
       "    </tr>\n",
       "    <tr>\n",
       "      <th>29</th>\n",
       "      <td>SECRETARIA DE DIREITOS HUMANOS E CIDADANIA</td>\n",
       "    </tr>\n",
       "    <tr>\n",
       "      <th>30</th>\n",
       "      <td>SECRETARIA DE GESTAO GOVERNAMENTAL</td>\n",
       "    </tr>\n",
       "    <tr>\n",
       "      <th>31</th>\n",
       "      <td>SECRETARIA DE INFRAESTRUTURA-GABINETE DO SECRE...</td>\n",
       "    </tr>\n",
       "    <tr>\n",
       "      <th>32</th>\n",
       "      <td>SECRETARIA DE PLANEJAMENTO-GABINETE DO SECRETARIO</td>\n",
       "    </tr>\n",
       "    <tr>\n",
       "      <th>33</th>\n",
       "      <td>SECRETARIA DE TURISMO-GABINETE DO SECRETARIO</td>\n",
       "    </tr>\n",
       "    <tr>\n",
       "      <th>34</th>\n",
       "      <td>SECRETARIA EXECUTIVA DE PARTICIPACAO POPULAR</td>\n",
       "    </tr>\n",
       "    <tr>\n",
       "      <th>35</th>\n",
       "      <td>SECRETARIA EXTRAORDINARIA DE POLITICAS PUBLICA...</td>\n",
       "    </tr>\n",
       "    <tr>\n",
       "      <th>36</th>\n",
       "      <td>SECRETARIA MUNICIPAL DE CIENCIA E TECNOLOGIA-G...</td>\n",
       "    </tr>\n",
       "    <tr>\n",
       "      <th>37</th>\n",
       "      <td>SECRETARIA MUNICIPAL DE EDUCACAO E CULTURA-GAB...</td>\n",
       "    </tr>\n",
       "    <tr>\n",
       "      <th>38</th>\n",
       "      <td>SECRETARIA MUNICIPAL DE HABITACAO SOCIAL</td>\n",
       "    </tr>\n",
       "    <tr>\n",
       "      <th>39</th>\n",
       "      <td>SECRETARIA MUNICIPAL DE PROTECAO E DEFESA DO C...</td>\n",
       "    </tr>\n",
       "    <tr>\n",
       "      <th>40</th>\n",
       "      <td>SECRETARIA MUNICIPAL DE SEGURANCA URBANA E CID...</td>\n",
       "    </tr>\n",
       "    <tr>\n",
       "      <th>41</th>\n",
       "      <td>SECRETARIA MUNICIPAL DO MEIO-AMBIENTE-GABINETE...</td>\n",
       "    </tr>\n",
       "    <tr>\n",
       "      <th>42</th>\n",
       "      <td>SUPERINTENDENCIA DE LIMPEZA URBANA - EMLUR</td>\n",
       "    </tr>\n",
       "    <tr>\n",
       "      <th>43</th>\n",
       "      <td>SUPERINTENDENCIA EXECUTIVA DE MOBILIDADE URBAN...</td>\n",
       "    </tr>\n",
       "    <tr>\n",
       "      <th>44</th>\n",
       "      <td>UNIDADE EXECUTORA DO PROGRAMA JOAO PESSOA SUST...</td>\n",
       "    </tr>\n",
       "    <tr>\n",
       "      <th>45</th>\n",
       "      <td>UNIDADE EXECUTORA MUNICIPAL</td>\n",
       "    </tr>\n",
       "  </tbody>\n",
       "</table>\n",
       "</div>"
      ],
      "text/plain": [
       "                               Unidades Orçamentárias\n",
       "0   CONTROLADORIA GERAL DO MUNICIPIO-GABINETE DO S...\n",
       "1   COORDENADORIA MUNICIPAL DE PROMOCAO A CIDADANI...\n",
       "2   DIRETORIA ADM FIN - COORDENADORA MUNICIPAL DE ...\n",
       "3                      DIRETORIA DE GESTAO CURRICULAR\n",
       "4            FUNDACAO CULTURAL DE JOAO PESSOA-FUNJOPE\n",
       "5   FUNDO DE GESTAO, DESENV. E MODERNIZACAO DA PROGEM\n",
       "6                    FUNDO DO TRABALHO DE JOAO PESSOA\n",
       "7        FUNDO MUNICIPAL DE ASSISTENCIA SOCIAL - FMAS\n",
       "8                          FUNDO MUNICIPAL DE CULTURA\n",
       "9   FUNDO MUNICIPAL DE DEFESA DOS DIREITOS DIFUSOS...\n",
       "10  FUNDO MUNICIPAL DE DESPESA DA CRIANCA E DO ADO...\n",
       "11                           FUNDO MUNICIPAL DE SAUDE\n",
       "12                     FUNDO MUNICIPAL DO IDOSO - FMI\n",
       "13                 FUNDO MUNICIPAL DO MEIO - AMBIENTE\n",
       "14                                            FUNDURB\n",
       "15                     GABINETE DE COMUNICACAO SOCIAL\n",
       "16                             GABINETE DO PROCURADOR\n",
       "17                             GABINETE DO SECRETARIO\n",
       "18                          GABINETE DO VICE-PREFEITO\n",
       "19                     INSTITUTO CANDIDO VARGAS - ICV\n",
       "20        INSTITUTO DE PREVIDENCIA DO MUNICIPIO - IPM\n",
       "21                                  PROGRAMA EU POSSO\n",
       "22  RECURSOS SOB A SUPERVISAO DA SECRETARIA DA ADM...\n",
       "23  RECURSOS SOB A SUPERVISAO DA SECRETARIA DAS FI...\n",
       "24  SEC. MUNIC. DA JUVENTUDE, ESPORTE E RECREACAO-...\n",
       "25  SEC. MUNIC. DO DESENVOLVIMENTO URBANO-GABINETE...\n",
       "26  SECRETARIA DA ADMINISTRACAO-GABINETE DO SECRET...\n",
       "27     SECRETARIA DAS FINANCAS-GABINETE DO SECRETARIO\n",
       "28  SECRETARIA DE DESENVOLVIMENTO SOCIAL-GABINETE ...\n",
       "29         SECRETARIA DE DIREITOS HUMANOS E CIDADANIA\n",
       "30                 SECRETARIA DE GESTAO GOVERNAMENTAL\n",
       "31  SECRETARIA DE INFRAESTRUTURA-GABINETE DO SECRE...\n",
       "32  SECRETARIA DE PLANEJAMENTO-GABINETE DO SECRETARIO\n",
       "33       SECRETARIA DE TURISMO-GABINETE DO SECRETARIO\n",
       "34       SECRETARIA EXECUTIVA DE PARTICIPACAO POPULAR\n",
       "35  SECRETARIA EXTRAORDINARIA DE POLITICAS PUBLICA...\n",
       "36  SECRETARIA MUNICIPAL DE CIENCIA E TECNOLOGIA-G...\n",
       "37  SECRETARIA MUNICIPAL DE EDUCACAO E CULTURA-GAB...\n",
       "38           SECRETARIA MUNICIPAL DE HABITACAO SOCIAL\n",
       "39  SECRETARIA MUNICIPAL DE PROTECAO E DEFESA DO C...\n",
       "40  SECRETARIA MUNICIPAL DE SEGURANCA URBANA E CID...\n",
       "41  SECRETARIA MUNICIPAL DO MEIO-AMBIENTE-GABINETE...\n",
       "42         SUPERINTENDENCIA DE LIMPEZA URBANA - EMLUR\n",
       "43  SUPERINTENDENCIA EXECUTIVA DE MOBILIDADE URBAN...\n",
       "44  UNIDADE EXECUTORA DO PROGRAMA JOAO PESSOA SUST...\n",
       "45                        UNIDADE EXECUTORA MUNICIPAL"
      ]
     },
     "execution_count": 39,
     "metadata": {},
     "output_type": "execute_result"
    }
   ],
   "source": [
    "# Listagem\n",
    "pd.DataFrame({\"Unidades Orçamentárias\":df[\"unidade_orcamentaria\"].sort_values().unique()})"
   ]
  },
  {
   "cell_type": "markdown",
   "metadata": {},
   "source": [
    "### Totais por unidades orçamentárias"
   ]
  },
  {
   "cell_type": "code",
   "execution_count": 49,
   "metadata": {},
   "outputs": [
    {
     "data": {
      "text/html": [
       "<div>\n",
       "<style scoped>\n",
       "    .dataframe tbody tr th:only-of-type {\n",
       "        vertical-align: middle;\n",
       "    }\n",
       "\n",
       "    .dataframe tbody tr th {\n",
       "        vertical-align: top;\n",
       "    }\n",
       "\n",
       "    .dataframe thead th {\n",
       "        text-align: right;\n",
       "    }\n",
       "</style>\n",
       "<table border=\"1\" class=\"dataframe\">\n",
       "  <thead>\n",
       "    <tr style=\"text-align: right;\">\n",
       "      <th></th>\n",
       "      <th>valor_empenhado</th>\n",
       "      <th>%</th>\n",
       "    </tr>\n",
       "    <tr>\n",
       "      <th>unidade_orcamentaria</th>\n",
       "      <th></th>\n",
       "      <th></th>\n",
       "    </tr>\n",
       "  </thead>\n",
       "  <tbody>\n",
       "    <tr>\n",
       "      <th>FUNDO MUNICIPAL DE SAUDE</th>\n",
       "      <td>996786486.27</td>\n",
       "      <td>31.63</td>\n",
       "    </tr>\n",
       "    <tr>\n",
       "      <th>SECRETARIA MUNICIPAL DE EDUCACAO E CULTURA-GABINETE DO SECRETARIO</th>\n",
       "      <td>731374474.81</td>\n",
       "      <td>23.21</td>\n",
       "    </tr>\n",
       "    <tr>\n",
       "      <th>INSTITUTO DE PREVIDENCIA DO MUNICIPIO - IPM</th>\n",
       "      <td>341984227.98</td>\n",
       "      <td>10.85</td>\n",
       "    </tr>\n",
       "    <tr>\n",
       "      <th>SUPERINTENDENCIA DE LIMPEZA URBANA - EMLUR</th>\n",
       "      <td>179901773.82</td>\n",
       "      <td>5.71</td>\n",
       "    </tr>\n",
       "    <tr>\n",
       "      <th>SECRETARIA DE INFRAESTRUTURA-GABINETE DO SECRETARIO</th>\n",
       "      <td>158154697.49</td>\n",
       "      <td>5.02</td>\n",
       "    </tr>\n",
       "    <tr>\n",
       "      <th>RECURSOS SOB A SUPERVISAO DA SECRETARIA DA ADMINISTRACAO</th>\n",
       "      <td>106644095.23</td>\n",
       "      <td>3.38</td>\n",
       "    </tr>\n",
       "    <tr>\n",
       "      <th>RECURSOS SOB A SUPERVISAO DA SECRETARIA DAS FINANCAS</th>\n",
       "      <td>100955005.15</td>\n",
       "      <td>3.20</td>\n",
       "    </tr>\n",
       "    <tr>\n",
       "      <th>UNIDADE EXECUTORA DO PROGRAMA JOAO PESSOA SUSTENTAVEL</th>\n",
       "      <td>60916434.82</td>\n",
       "      <td>1.93</td>\n",
       "    </tr>\n",
       "    <tr>\n",
       "      <th>SUPERINTENDENCIA EXECUTIVA DE MOBILIDADE URBANA DE JOAO PESSOA - SEMOB</th>\n",
       "      <td>59811353.80</td>\n",
       "      <td>1.90</td>\n",
       "    </tr>\n",
       "    <tr>\n",
       "      <th>SECRETARIA DE PLANEJAMENTO-GABINETE DO SECRETARIO</th>\n",
       "      <td>37318081.14</td>\n",
       "      <td>1.18</td>\n",
       "    </tr>\n",
       "    <tr>\n",
       "      <th>GABINETE DO PROCURADOR</th>\n",
       "      <td>37317347.93</td>\n",
       "      <td>1.18</td>\n",
       "    </tr>\n",
       "    <tr>\n",
       "      <th>SECRETARIA DE DESENVOLVIMENTO SOCIAL-GABINETE DO SECRETARIO</th>\n",
       "      <td>35946878.51</td>\n",
       "      <td>1.14</td>\n",
       "    </tr>\n",
       "    <tr>\n",
       "      <th>GABINETE DO SECRETARIO</th>\n",
       "      <td>30125139.87</td>\n",
       "      <td>0.96</td>\n",
       "    </tr>\n",
       "    <tr>\n",
       "      <th>GABINETE DE COMUNICACAO SOCIAL</th>\n",
       "      <td>29871261.48</td>\n",
       "      <td>0.95</td>\n",
       "    </tr>\n",
       "    <tr>\n",
       "      <th>SECRETARIA MUNICIPAL DE SEGURANCA URBANA E CIDADANIA-GABINETE DO SECRETARIO</th>\n",
       "      <td>28933299.14</td>\n",
       "      <td>0.92</td>\n",
       "    </tr>\n",
       "    <tr>\n",
       "      <th>FUNDACAO CULTURAL DE JOAO PESSOA-FUNJOPE</th>\n",
       "      <td>24931817.02</td>\n",
       "      <td>0.79</td>\n",
       "    </tr>\n",
       "    <tr>\n",
       "      <th>SECRETARIA DE GESTAO GOVERNAMENTAL</th>\n",
       "      <td>24715053.87</td>\n",
       "      <td>0.78</td>\n",
       "    </tr>\n",
       "    <tr>\n",
       "      <th>FUNDO MUNICIPAL DE ASSISTENCIA SOCIAL - FMAS</th>\n",
       "      <td>22054338.14</td>\n",
       "      <td>0.70</td>\n",
       "    </tr>\n",
       "    <tr>\n",
       "      <th>SEC. MUNIC. DO DESENVOLVIMENTO URBANO-GABINETE DO SECRETARIO</th>\n",
       "      <td>21360695.62</td>\n",
       "      <td>0.68</td>\n",
       "    </tr>\n",
       "    <tr>\n",
       "      <th>SECRETARIA DA ADMINISTRACAO-GABINETE DO SECRETARIO</th>\n",
       "      <td>14410306.27</td>\n",
       "      <td>0.46</td>\n",
       "    </tr>\n",
       "    <tr>\n",
       "      <th>SECRETARIA DAS FINANCAS-GABINETE DO SECRETARIO</th>\n",
       "      <td>14150288.09</td>\n",
       "      <td>0.45</td>\n",
       "    </tr>\n",
       "    <tr>\n",
       "      <th>INSTITUTO CANDIDO VARGAS - ICV</th>\n",
       "      <td>13451486.43</td>\n",
       "      <td>0.43</td>\n",
       "    </tr>\n",
       "    <tr>\n",
       "      <th>SECRETARIA DE DIREITOS HUMANOS E CIDADANIA</th>\n",
       "      <td>11836269.39</td>\n",
       "      <td>0.38</td>\n",
       "    </tr>\n",
       "    <tr>\n",
       "      <th>SECRETARIA MUNICIPAL DE HABITACAO SOCIAL</th>\n",
       "      <td>10191673.63</td>\n",
       "      <td>0.32</td>\n",
       "    </tr>\n",
       "    <tr>\n",
       "      <th>SEC. MUNIC. DA JUVENTUDE, ESPORTE E RECREACAO-GABINETE DO SECRETARIO</th>\n",
       "      <td>8189342.59</td>\n",
       "      <td>0.26</td>\n",
       "    </tr>\n",
       "    <tr>\n",
       "      <th>SECRETARIA MUNICIPAL DO MEIO-AMBIENTE-GABINETE DO SECRETARIO</th>\n",
       "      <td>6870102.76</td>\n",
       "      <td>0.22</td>\n",
       "    </tr>\n",
       "    <tr>\n",
       "      <th>SECRETARIA DE TURISMO-GABINETE DO SECRETARIO</th>\n",
       "      <td>5119720.54</td>\n",
       "      <td>0.16</td>\n",
       "    </tr>\n",
       "    <tr>\n",
       "      <th>UNIDADE EXECUTORA MUNICIPAL</th>\n",
       "      <td>4608687.75</td>\n",
       "      <td>0.15</td>\n",
       "    </tr>\n",
       "    <tr>\n",
       "      <th>CONTROLADORIA GERAL DO MUNICIPIO-GABINETE DO SECRETARIO</th>\n",
       "      <td>4286138.05</td>\n",
       "      <td>0.14</td>\n",
       "    </tr>\n",
       "    <tr>\n",
       "      <th>SECRETARIA MUNICIPAL DE PROTECAO E DEFESA DO CONSUMIDOR-GABINETE DO SECRETARIO</th>\n",
       "      <td>3871869.25</td>\n",
       "      <td>0.12</td>\n",
       "    </tr>\n",
       "    <tr>\n",
       "      <th>PROGRAMA EU POSSO</th>\n",
       "      <td>3708268.11</td>\n",
       "      <td>0.12</td>\n",
       "    </tr>\n",
       "    <tr>\n",
       "      <th>DIRETORIA ADM FIN - COORDENADORA MUNICIPAL DE PROTECAO E DEFESA CIVIL DE JOAO PESSOA</th>\n",
       "      <td>3160810.74</td>\n",
       "      <td>0.10</td>\n",
       "    </tr>\n",
       "    <tr>\n",
       "      <th>GABINETE DO VICE-PREFEITO</th>\n",
       "      <td>2899237.29</td>\n",
       "      <td>0.09</td>\n",
       "    </tr>\n",
       "    <tr>\n",
       "      <th>SECRETARIA MUNICIPAL DE CIENCIA E TECNOLOGIA-GABINETE DO SECRETARIO</th>\n",
       "      <td>2721640.04</td>\n",
       "      <td>0.09</td>\n",
       "    </tr>\n",
       "    <tr>\n",
       "      <th>SECRETARIA EXTRAORDINARIA DE POLITICAS PUBLICAS PARA AS MULHERES-GABINETE DO SECRETARIO</th>\n",
       "      <td>2457469.26</td>\n",
       "      <td>0.08</td>\n",
       "    </tr>\n",
       "    <tr>\n",
       "      <th>FUNDO MUNICIPAL DE DESPESA DA CRIANCA E DO ADOLESCENTE - FMCA</th>\n",
       "      <td>2246824.04</td>\n",
       "      <td>0.07</td>\n",
       "    </tr>\n",
       "    <tr>\n",
       "      <th>FUNDO DE GESTAO, DESENV. E MODERNIZACAO DA PROGEM</th>\n",
       "      <td>2036402.22</td>\n",
       "      <td>0.06</td>\n",
       "    </tr>\n",
       "    <tr>\n",
       "      <th>FUNDO MUNICIPAL DO MEIO - AMBIENTE</th>\n",
       "      <td>1894708.49</td>\n",
       "      <td>0.06</td>\n",
       "    </tr>\n",
       "    <tr>\n",
       "      <th>FUNDO MUNICIPAL DE DEFESA DOS DIREITOS DIFUSOS DO CONSUMIDOR</th>\n",
       "      <td>1877887.42</td>\n",
       "      <td>0.06</td>\n",
       "    </tr>\n",
       "    <tr>\n",
       "      <th>DIRETORIA DE GESTAO CURRICULAR</th>\n",
       "      <td>1192440.19</td>\n",
       "      <td>0.04</td>\n",
       "    </tr>\n",
       "    <tr>\n",
       "      <th>FUNDO MUNICIPAL DE CULTURA</th>\n",
       "      <td>472110.00</td>\n",
       "      <td>0.01</td>\n",
       "    </tr>\n",
       "    <tr>\n",
       "      <th>FUNDO MUNICIPAL DO IDOSO - FMI</th>\n",
       "      <td>317463.00</td>\n",
       "      <td>0.01</td>\n",
       "    </tr>\n",
       "    <tr>\n",
       "      <th>FUNDO DO TRABALHO DE JOAO PESSOA</th>\n",
       "      <td>48057.00</td>\n",
       "      <td>0.00</td>\n",
       "    </tr>\n",
       "    <tr>\n",
       "      <th>SECRETARIA EXECUTIVA DE PARTICIPACAO POPULAR</th>\n",
       "      <td>25884.00</td>\n",
       "      <td>0.00</td>\n",
       "    </tr>\n",
       "    <tr>\n",
       "      <th>FUNDURB</th>\n",
       "      <td>1533.20</td>\n",
       "      <td>0.00</td>\n",
       "    </tr>\n",
       "    <tr>\n",
       "      <th>COORDENADORIA MUNICIPAL DE PROMOCAO A CIDADANIA LGBT E IGUALDADE RACIAL</th>\n",
       "      <td>1458.34</td>\n",
       "      <td>0.00</td>\n",
       "    </tr>\n",
       "  </tbody>\n",
       "</table>\n",
       "</div>"
      ],
      "text/plain": [
       "                                                    valor_empenhado     %\n",
       "unidade_orcamentaria                                                     \n",
       "FUNDO MUNICIPAL DE SAUDE                               996786486.27 31.63\n",
       "SECRETARIA MUNICIPAL DE EDUCACAO E CULTURA-GABI...     731374474.81 23.21\n",
       "INSTITUTO DE PREVIDENCIA DO MUNICIPIO - IPM            341984227.98 10.85\n",
       "SUPERINTENDENCIA DE LIMPEZA URBANA - EMLUR             179901773.82  5.71\n",
       "SECRETARIA DE INFRAESTRUTURA-GABINETE DO SECRET...     158154697.49  5.02\n",
       "RECURSOS SOB A SUPERVISAO DA SECRETARIA DA ADMI...     106644095.23  3.38\n",
       "RECURSOS SOB A SUPERVISAO DA SECRETARIA DAS FIN...     100955005.15  3.20\n",
       "UNIDADE EXECUTORA DO PROGRAMA JOAO PESSOA SUSTE...      60916434.82  1.93\n",
       "SUPERINTENDENCIA EXECUTIVA DE MOBILIDADE URBANA...      59811353.80  1.90\n",
       "SECRETARIA DE PLANEJAMENTO-GABINETE DO SECRETARIO       37318081.14  1.18\n",
       "GABINETE DO PROCURADOR                                  37317347.93  1.18\n",
       "SECRETARIA DE DESENVOLVIMENTO SOCIAL-GABINETE D...      35946878.51  1.14\n",
       "GABINETE DO SECRETARIO                                  30125139.87  0.96\n",
       "GABINETE DE COMUNICACAO SOCIAL                          29871261.48  0.95\n",
       "SECRETARIA MUNICIPAL DE SEGURANCA URBANA E CIDA...      28933299.14  0.92\n",
       "FUNDACAO CULTURAL DE JOAO PESSOA-FUNJOPE                24931817.02  0.79\n",
       "SECRETARIA DE GESTAO GOVERNAMENTAL                      24715053.87  0.78\n",
       "FUNDO MUNICIPAL DE ASSISTENCIA SOCIAL - FMAS            22054338.14  0.70\n",
       "SEC. MUNIC. DO DESENVOLVIMENTO URBANO-GABINETE ...      21360695.62  0.68\n",
       "SECRETARIA DA ADMINISTRACAO-GABINETE DO SECRETARIO      14410306.27  0.46\n",
       "SECRETARIA DAS FINANCAS-GABINETE DO SECRETARIO          14150288.09  0.45\n",
       "INSTITUTO CANDIDO VARGAS - ICV                          13451486.43  0.43\n",
       "SECRETARIA DE DIREITOS HUMANOS E CIDADANIA              11836269.39  0.38\n",
       "SECRETARIA MUNICIPAL DE HABITACAO SOCIAL                10191673.63  0.32\n",
       "SEC. MUNIC. DA JUVENTUDE, ESPORTE E RECREACAO-G...       8189342.59  0.26\n",
       "SECRETARIA MUNICIPAL DO MEIO-AMBIENTE-GABINETE ...       6870102.76  0.22\n",
       "SECRETARIA DE TURISMO-GABINETE DO SECRETARIO             5119720.54  0.16\n",
       "UNIDADE EXECUTORA MUNICIPAL                              4608687.75  0.15\n",
       "CONTROLADORIA GERAL DO MUNICIPIO-GABINETE DO SE...       4286138.05  0.14\n",
       "SECRETARIA MUNICIPAL DE PROTECAO E DEFESA DO CO...       3871869.25  0.12\n",
       "PROGRAMA EU POSSO                                        3708268.11  0.12\n",
       "DIRETORIA ADM FIN - COORDENADORA MUNICIPAL DE P...       3160810.74  0.10\n",
       "GABINETE DO VICE-PREFEITO                                2899237.29  0.09\n",
       "SECRETARIA MUNICIPAL DE CIENCIA E TECNOLOGIA-GA...       2721640.04  0.09\n",
       "SECRETARIA EXTRAORDINARIA DE POLITICAS PUBLICAS...       2457469.26  0.08\n",
       "FUNDO MUNICIPAL DE DESPESA DA CRIANCA E DO ADOL...       2246824.04  0.07\n",
       "FUNDO DE GESTAO, DESENV. E MODERNIZACAO DA PROGEM        2036402.22  0.06\n",
       "FUNDO MUNICIPAL DO MEIO - AMBIENTE                       1894708.49  0.06\n",
       "FUNDO MUNICIPAL DE DEFESA DOS DIREITOS DIFUSOS ...       1877887.42  0.06\n",
       "DIRETORIA DE GESTAO CURRICULAR                           1192440.19  0.04\n",
       "FUNDO MUNICIPAL DE CULTURA                                472110.00  0.01\n",
       "FUNDO MUNICIPAL DO IDOSO - FMI                            317463.00  0.01\n",
       "FUNDO DO TRABALHO DE JOAO PESSOA                           48057.00  0.00\n",
       "SECRETARIA EXECUTIVA DE PARTICIPACAO POPULAR               25884.00  0.00\n",
       "FUNDURB                                                     1533.20  0.00\n",
       "COORDENADORIA MUNICIPAL DE PROMOCAO A CIDADANIA...          1458.34  0.00"
      ]
     },
     "execution_count": 49,
     "metadata": {},
     "output_type": "execute_result"
    }
   ],
   "source": [
    "# Somatório por unidade orçamentária e impácto percentual do total.\n",
    "valores_unidades_orcamentarias = df[[\"unidade_orcamentaria\",\"valor_empenhado\"]].groupby(\"unidade_orcamentaria\").sum()\n",
    "valores_unidades_orcamentarias[\"%\"] = valores_unidades_orcamentarias[\"valor_empenhado\"].div(valor_total)*100\n",
    "valores_unidades_orcamentarias.sort_values(\"valor_empenhado\", ascending=False)"
   ]
  },
  {
   "cell_type": "markdown",
   "metadata": {},
   "source": [
    "### Execussão orçamentária por trimestre"
   ]
  },
  {
   "cell_type": "markdown",
   "metadata": {},
   "source": [
    "#### Percentual de execussão orçamentária por trimestre"
   ]
  },
  {
   "cell_type": "code",
   "execution_count": 62,
   "metadata": {},
   "outputs": [
    {
     "data": {
      "image/png": "[encoded data removed]",
      "text/plain": [
       "<Figure size 640x480 with 1 Axes>"
      ]
     },
     "metadata": {},
     "output_type": "display_data"
    }
   ],
   "source": [
    "# Percentual do valor total por trimestre\n",
    "percentual_trimestre = df[[\"trimestre_empenho\",\"valor_empenhado\"]].groupby([\"trimestre_empenho\"]).sum()\n",
    "percentual_trimestre[\"valor_empenhado\"] = percentual_trimestre[\"valor_empenhado\"].div(valor_total)*100\n",
    "axs = percentual_trimestre.plot.bar(rot=0)"
   ]
  }
 ],
 "metadata": {
  "kernelspec": {
   "display_name": "Python 3",
   "language": "python",
   "name": "python3"
  },
  "language_info": {
   "codemirror_mode": {
    "name": "ipython",
    "version": 3
   },
   "file_extension": ".py",
   "mimetype": "text/x-python",
   "name": "python",
   "nbconvert_exporter": "python",
   "pygments_lexer": "ipython3",
   "version": "3.9.13"
  }
 },
 "nbformat": 4,
 "nbformat_minor": 2
}
